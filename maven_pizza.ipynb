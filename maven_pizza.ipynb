{
 "cells": [
  {
   "cell_type": "code",
   "execution_count": null,
   "metadata": {},
   "outputs": [],
   "source": [
    "#setup environment\n",
    "from matplotlib import pyplot as plt \n",
    "import pandas as pd\n",
    "import seaborn as sns\n",
    "import numpy as np\n",
    "\n",
    "# Full output for each cell\n",
    "from IPython.core.interactiveshell import InteractiveShell\n",
    "InteractiveShell.ast_node_interactivity = \"all\"\n",
    "\n",
    "#Set minimum rows to display in dataframe\n",
    "pd.set_option('display.min_rows', 10)"
   ]
  },
  {
   "cell_type": "markdown",
   "metadata": {},
   "source": [
    "#Background\n",
    "\n",
    "Things are going OK here at Plato's, but there's room for improvement. We've been collecting transactional data for the past year, but really haven't been able to put it to good use. Hoping you can analyze the data and put together a report to help us find opportunities to drive more sales and work more efficiently.\n",
    "\n",
    "Here are some questions that we'd like to be able to answer:\n",
    "\n",
    "- What days and times do we tend to be busiest?\n",
    "- How many pizzas are we making during peak periods?\n",
    "- What are our best and worst selling pizzas?\n",
    "- What's our average order value?\n",
    "- How well are we utilizing our seating capacity? (we have 15 tables and 60 seats)\n",
    "\n",
    "That's all I can think of for now, but if you have any other ideas I'd love to hear them – you're the expert!"
   ]
  },
  {
   "cell_type": "code",
   "execution_count": null,
   "metadata": {},
   "outputs": [],
   "source": []
  }
 ],
 "metadata": {
  "language_info": {
   "name": "python"
  },
  "orig_nbformat": 4
 },
 "nbformat": 4,
 "nbformat_minor": 2
}
